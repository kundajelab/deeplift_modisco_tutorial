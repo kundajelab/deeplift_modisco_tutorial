{
 "cells": [
  {
   "cell_type": "code",
   "execution_count": 69,
   "metadata": {
    "collapsed": false
   },
   "outputs": [],
   "source": [
    "%matplotlib inline\n",
    "from __future__ import print_function\n",
    "from simdna import synthetic as sn\n",
    "import avutils\n",
    "from avutils import file_processing as fp\n",
    "import numpy as np\n",
    "from collections import OrderedDict"
   ]
  },
  {
   "cell_type": "markdown",
   "metadata": {},
   "source": [
    "## Overview"
   ]
  },
  {
   "cell_type": "markdown",
   "metadata": {},
   "source": [
    "Describe the simulation (number per type of sequence, the three tasks, the different motifs, ENCODE images of the motifs, and also the GC content)"
   ]
  },
  {
   "cell_type": "markdown",
   "metadata": {},
   "source": [
    "## Loading the raw data"
   ]
  },
  {
   "cell_type": "markdown",
   "metadata": {},
   "source": [
    "Load in the testing set of our model for analysis"
   ]
  },
  {
   "cell_type": "code",
   "execution_count": 2,
   "metadata": {
    "collapsed": false
   },
   "outputs": [],
   "source": [
    "raw_data = sn.read_simdata_file(\"sequences.simdata.gz\", ids_to_load=fp.read_rows_into_arr(\"splits/test.txt.gz\"))"
   ]
  },
  {
   "cell_type": "markdown",
   "metadata": {},
   "source": [
    "Let's inspect the contents of the raw_data object"
   ]
  },
  {
   "cell_type": "markdown",
   "metadata": {},
   "source": [
    "First, we can access the raw underlying sequence"
   ]
  },
  {
   "cell_type": "code",
   "execution_count": 3,
   "metadata": {
    "collapsed": false
   },
   "outputs": [
    {
     "data": {
      "text/plain": [
       "['CTTGTATTGAGTTAGAAACCGCCACGGCACTGCTATGTATGACATTCTAACTAAGTGAGTTATGCGTTGGGTCCTTTATGTGGCATTATCTGGTAATACTTAATTGATGTACTATTTCCTCGACAAAACAGGTGGTGTGGGTGTACCGGTCACCGATAAGGGGGAACTCACCAGATGGTAGTTAACCTATAGAGTCCTGA',\n",
       " 'TGACAATGGACCCGGTCCGGGTTAGGTACTGATTAGGAACGACCCAGGCCGAGCGACTTATCCCGTTAGATGACGGAATCGTTGTTAGCGGAAAAGAGATAAGAACTTCCCAATTTATACAGATAAGCACACAATGTTTAACGTTCCCGTCTGAGTACTCCTGAATGGGAAGGATATTCTATACTAAGGGATTAGTCGTG',\n",
       " 'CGTTTGAAAGGAGACCAGGTGGTCCAACCACAGTAGCAGAATATTATGCGGTTGTCGATAGAGCTTTGCTAACAGATGTTTACAGTTATCCTGAAATCGTTTGGACAAACTGTCTTCGTGCGTAATTGCACTGTTATGGCCCAGTACAGGGGATCAGATGGTCATGGCAAAAGGCGTGCCAACGCTCGAACTGGAGTCTT',\n",
       " 'TATGACGACTGCGTATAGTAGACAGATGGTGGACAATTCCCCGTTACATAAAGGGGTACAGATGGTAAGTCCACAAACCGTAACGGCAACAGATGTTTTGAGGTACAAATATAAGGTCCTGATAAGGAGCCGAGAGCTGACGCGTGCCCAATGAGTACATACGTGATACGAATGCGTGCGCCCGGAGTATGTCAAACCGT',\n",
       " 'CAGTATCTACTGAAAGGAGAATGCACTTGCCGCAATTAACATCCTCTGATTGCACTTGAGTATTTAACAATATATTATGAGCAAGACGCCGGCCTTGTAAAAGACCAAATATAAGGACAATCTAGGGGCGCGTGACCAAGACTGCATCATATCTTCCAAATTTAGTAGTACGCCGTGGAGCGTGATGCGAGTGCTCCACG']"
      ]
     },
     "execution_count": 3,
     "metadata": {},
     "output_type": "execute_result"
    }
   ],
   "source": [
    "raw_data.sequences[:5]"
   ]
  },
  {
   "cell_type": "markdown",
   "metadata": {},
   "source": [
    "...As well as the labels"
   ]
  },
  {
   "cell_type": "code",
   "execution_count": 4,
   "metadata": {
    "collapsed": false
   },
   "outputs": [
    {
     "name": "stdout",
     "output_type": "stream",
     "text": [
      "[[1 1 1]\n",
      " [0 1 0]\n",
      " [0 0 1]\n",
      " [1 1 1]\n",
      " [0 0 0]]\n"
     ]
    }
   ],
   "source": [
    "print(raw_data.labels[:5])"
   ]
  },
  {
   "cell_type": "markdown",
   "metadata": {},
   "source": [
    "As well as the actual contents of the motif objects that were embedded in the original simulation. Can you verify the relationship between the labels and the embeddings?"
   ]
  },
  {
   "cell_type": "code",
   "execution_count": 5,
   "metadata": {
    "collapsed": false
   },
   "outputs": [
    {
     "name": "stdout",
     "output_type": "stream",
     "text": [
      "pos-151_GATA_disc1-ACCGATAAGG, pos-123_TAL1_known1-CAAAACAGGTGGTGTG, pos-166_TAL1_known1-CTCACCAGATGGTAGT\n",
      "pos-94_GATA_disc1-AGAGATAAGA, pos-118_GATA_disc1-ACAGATAAGC, pos-27_GATA_disc1-ACTGATTAGG\n",
      "pos-149_TAL1_known1-GGGATCAGATGGTCAT, pos-67_TAL1_known1-GCTAACAGATGTTTAC, pos-10_TAL1_known1-GAGACCAGGTGGTCCA\n",
      "pos-161_GATA_disc1-CGTGATACGA, pos-117_GATA_disc1-CCTGATAAGG, pos-84_TAL1_known1-GGCAACAGATGTTTTG, pos-53_TAL1_known1-GGGTACAGATGGTAAG, pos-17_TAL1_known1-GTAGACAGATGGTGGA\n",
      "\n"
     ]
    }
   ],
   "source": [
    "print(\"\\n\".join(\", \".join(str(embedding) for embedding in embeddings_one_seq)\n",
    "                     for embeddings_one_seq in raw_data.embeddings[:5]))"
   ]
  },
  {
   "cell_type": "markdown",
   "metadata": {},
   "source": [
    "We are going to have to one-hot encode the data, so let's do that"
   ]
  },
  {
   "cell_type": "code",
   "execution_count": 6,
   "metadata": {
    "collapsed": false
   },
   "outputs": [],
   "source": [
    "one_hot_data = avutils.util.one_hot_encode_sequences(raw_data.sequences)"
   ]
  },
  {
   "cell_type": "markdown",
   "metadata": {},
   "source": [
    "Let's inspect the shape of the one-hot encoded data"
   ]
  },
  {
   "cell_type": "code",
   "execution_count": 18,
   "metadata": {
    "collapsed": false
   },
   "outputs": [
    {
     "data": {
      "text/plain": [
       "(800, 1, 4, 200)"
      ]
     },
     "execution_count": 18,
     "metadata": {},
     "output_type": "execute_result"
    }
   ],
   "source": [
    "one_hot_data.shape"
   ]
  },
  {
   "cell_type": "markdown",
   "metadata": {},
   "source": [
    "The one-hot encoded data has dimensions of sample x channel x row (acgt) x column (position along sequence). The channel axis always has length 1 in the input layer, but will have a larger length after the convolutional layers (this is the dimension that will store the different convolutional channels)."
   ]
  },
  {
   "cell_type": "markdown",
   "metadata": {},
   "source": [
    "## Loading a DeepLIFT model"
   ]
  },
  {
   "cell_type": "markdown",
   "metadata": {},
   "source": [
    "Let's now set up a DeepLIFT model. In this tutorial, we will start with a keras model and use the deeplift autoconversion functions to create a DeepLIFT model. Note that it is not necessary to have a keras model; if you have a model trained with a different package, you can write your own conversion scripts to put it in the DeepLIFT format - information on how to do so is documented on the DeepLIFT repo https://github.com/kundajelab/deeplift#under-the-hood. For now, we will stick to the autoconversion."
   ]
  },
  {
   "cell_type": "markdown",
   "metadata": {},
   "source": [
    "We will start with loading a keras model. We're going to load a Keras graph model (version 0.3.2). When we load the model, we need to specify the weights and the configuration (the weights are stored in the .h5 format and the configuration is stored in the .yaml format)"
   ]
  },
  {
   "cell_type": "code",
   "execution_count": 7,
   "metadata": {
    "collapsed": false
   },
   "outputs": [
    {
     "name": "stderr",
     "output_type": "stream",
     "text": [
      "Using gpu device 2: GeForce GTX TITAN X (CNMeM is disabled, cuDNN 5005)\n",
      "Using Theano backend.\n",
      "/users/avanti/anaconda2/lib/python2.7/site-packages/theano/tensor/signal/downsample.py:6: UserWarning: downsample module has been moved to the theano.tensor.signal.pool module.\n",
      "  \"downsample module has been moved to the theano.tensor.signal.pool module.\")\n"
     ]
    }
   ],
   "source": [
    "import deeplift.conversion.keras_conversion as kc\n",
    "\n",
    "keras_model_weights = \"model_files/record_1_model_9vvXe_modelWeights.h5\"\n",
    "keras_model_yaml = \"model_files/record_1_model_9vvXe_modelYaml.yaml\"\n",
    "\n",
    "keras_model = kc.load_keras_model(weights=keras_model_weights, yaml=keras_model_yaml)"
   ]
  },
  {
   "cell_type": "markdown",
   "metadata": {},
   "source": [
    "We can inspect the input layers of the keras model as follows:"
   ]
  },
  {
   "cell_type": "code",
   "execution_count": 8,
   "metadata": {
    "collapsed": false
   },
   "outputs": [
    {
     "data": {
      "text/plain": [
       "{'sequence': <keras.layers.core.Layer at 0x7f225ed5de90>}"
      ]
     },
     "execution_count": 8,
     "metadata": {},
     "output_type": "execute_result"
    }
   ],
   "source": [
    "keras_model.inputs"
   ]
  },
  {
   "cell_type": "markdown",
   "metadata": {},
   "source": [
    "We can inspect all the intermediate nodes of the model as follows:"
   ]
  },
  {
   "cell_type": "code",
   "execution_count": 9,
   "metadata": {
    "collapsed": false
   },
   "outputs": [
    {
     "data": {
      "text/plain": [
       "OrderedDict([('conv1',\n",
       "              <keras.layers.convolutional.Convolution2D at 0x7f225ed5df50>),\n",
       "             ('conv1_act', <keras.layers.core.Activation at 0x7f225ed39290>),\n",
       "             ('conv2',\n",
       "              <keras.layers.convolutional.Convolution2D at 0x7f225ed39c90>),\n",
       "             ('conv2_act', <keras.layers.core.Activation at 0x7f225ed39d90>),\n",
       "             ('avg_pool',\n",
       "              <keras.layers.convolutional.AveragePooling2D at 0x7f225ed42050>),\n",
       "             ('flatten', <keras.layers.core.Flatten at 0x7f225ed42190>),\n",
       "             ('dense1', <keras.layers.core.Dense at 0x7f225ed421d0>),\n",
       "             ('dense1_act', <keras.layers.core.Activation at 0x7f225ed422d0>),\n",
       "             ('dense1_dropout', <keras.layers.core.Dropout at 0x7f225ed42550>),\n",
       "             ('output_preact', <keras.layers.core.Dense at 0x7f225ed42590>),\n",
       "             ('output_act', <keras.layers.core.Activation at 0x7f225ed42690>)])"
      ]
     },
     "execution_count": 9,
     "metadata": {},
     "output_type": "execute_result"
    }
   ],
   "source": [
    "keras_model.nodes"
   ]
  },
  {
   "cell_type": "markdown",
   "metadata": {},
   "source": [
    "We will now convert the Keras model to the DeepLIFT format using the provided autoconverion functions."
   ]
  },
  {
   "cell_type": "code",
   "execution_count": 10,
   "metadata": {
    "collapsed": true
   },
   "outputs": [],
   "source": [
    "deeplift_model = kc.convert_graph_model(model=keras_model)"
   ]
  },
  {
   "cell_type": "markdown",
   "metadata": {},
   "source": [
    "Let's do a sanity check that the conversion happened correctly. We can view the blobs in the converted model as follows (a blob is the equivalent of a layer - we named them 'blobs' to avoid any implication of sequentiality):"
   ]
  },
  {
   "cell_type": "code",
   "execution_count": 11,
   "metadata": {
    "collapsed": false
   },
   "outputs": [
    {
     "data": {
      "text/plain": [
       "OrderedDict([('sequence', <deeplift.blobs.core.Input at 0x7f224c82bd90>),\n",
       "             ('conv1', <deeplift.blobs.convolution.Conv2D at 0x7f224c82bf10>),\n",
       "             ('conv1_act',\n",
       "              <deeplift.blobs.activations.ReLU at 0x7f224c82bdd0>),\n",
       "             ('conv2', <deeplift.blobs.convolution.Conv2D at 0x7f224c82b6d0>),\n",
       "             ('conv2_act',\n",
       "              <deeplift.blobs.activations.ReLU at 0x7f224c82bfd0>),\n",
       "             ('avg_pool',\n",
       "              <deeplift.blobs.convolution.AvgPool2D at 0x7f224c841050>),\n",
       "             ('flatten',\n",
       "              <deeplift.blobs.convolution.Flatten at 0x7f224c841090>),\n",
       "             ('dense1', <deeplift.blobs.core.Dense at 0x7f224c82b610>),\n",
       "             ('dense1_act',\n",
       "              <deeplift.blobs.activations.ReLU at 0x7f224c8410d0>),\n",
       "             ('dense1_dropout', <deeplift.blobs.core.NoOp at 0x7f224c841110>),\n",
       "             ('output_preact', <deeplift.blobs.core.Dense at 0x7f224c82bf50>),\n",
       "             ('output_act',\n",
       "              <deeplift.blobs.activations.Sigmoid at 0x7f224c82bf90>)])"
      ]
     },
     "execution_count": 11,
     "metadata": {},
     "output_type": "execute_result"
    }
   ],
   "source": [
    "deeplift_model.get_name_to_blob()"
   ]
  },
  {
   "cell_type": "markdown",
   "metadata": {},
   "source": [
    "You can see that most of the keras layers have an equivalent DeepLIFT blob. One exception is the Dropout layer, which maps to a blob object of type \"NoOp\" (\"No Operation\"). For those of you familiar with dropout: a dropout layer affects the behaviour of the net while it is training, but does nothing when it's time to make predictions. As deeplift is only applied to models after they are trained, the dropout layer maps to a \"NoOp\" blob which is the identity function."
   ]
  },
  {
   "cell_type": "markdown",
   "metadata": {},
   "source": [
    "## Sanity check the conversion"
   ]
  },
  {
   "cell_type": "markdown",
   "metadata": {},
   "source": [
    "As a sanity check to make sure the conversion happened correctly, let's define a function to make predictions with this converted deeplift model and verify that it gives the same outputs as the original keras model. We can create a function using get_prediction_fucntion, as shown:"
   ]
  },
  {
   "cell_type": "code",
   "execution_count": 12,
   "metadata": {
    "collapsed": false
   },
   "outputs": [],
   "source": [
    "from deeplift.backend import function\n",
    "#output_layer_names is a list of the layer that you are getting the outputs of\n",
    "#input_layer_names is a list of the layers that you are using as inputs to the outputs\n",
    "deeplift_prediction_function = deeplift_model.get_prediction_function(\n",
    "    input_layer_names=['sequence'],\n",
    "    output_layer_name='output_act'\n",
    ")\n",
    "#batch_size refers to a batch size for the GPU; predictions are made in batches on the GPU for efficiency\n",
    "#we retrieve the output at index [0] because we got predictions for just one layer, so the outputs we want\n",
    "#are at index 0 in the resulting array\n",
    "deeplift_model_predictions = deeplift_prediction_function([one_hot_data], batch_size=20)"
   ]
  },
  {
   "cell_type": "markdown",
   "metadata": {},
   "source": [
    "Let's obtain the corresponding predictions from the original keras model"
   ]
  },
  {
   "cell_type": "code",
   "execution_count": 13,
   "metadata": {
    "collapsed": false
   },
   "outputs": [],
   "source": [
    "keras_model_predictions = keras_model.predict({'sequence':one_hot_data}, batch_size=20)['output']"
   ]
  },
  {
   "cell_type": "markdown",
   "metadata": {},
   "source": [
    "Now print out the maximum difference between the two predictions. This should be within numerical accuracy."
   ]
  },
  {
   "cell_type": "code",
   "execution_count": 14,
   "metadata": {
    "collapsed": false
   },
   "outputs": [
    {
     "name": "stdout",
     "output_type": "stream",
     "text": [
      "0.0\n"
     ]
    }
   ],
   "source": [
    "print(np.max(np.abs(deeplift_model_predictions-keras_model_predictions)))"
   ]
  },
  {
   "cell_type": "markdown",
   "metadata": {},
   "source": [
    "## Get importance scores from the model"
   ]
  },
  {
   "cell_type": "markdown",
   "metadata": {},
   "source": [
    "This is how we get the function that actually produces importance scores. find_scores_layer_name refers to the layer that we want to find the importance scores for - in this case, the input sequence. pre_activation_target_layer_name refers to the layer that we are computing the contributions to - this should refer to the linear layer prior to the final nonlinearity."
   ]
  },
  {
   "cell_type": "code",
   "execution_count": 16,
   "metadata": {
    "collapsed": true
   },
   "outputs": [],
   "source": [
    "deeplift_scoring_func = deeplift_model.get_target_contribs_func(\n",
    "                            find_scores_layer_name=\"sequence\",\n",
    "                            pre_activation_target_layer_name=\"output_preact\")"
   ]
  },
  {
   "cell_type": "markdown",
   "metadata": {},
   "source": [
    "We can now compute the scores on all the sequences for all three tasks. The first step is to prepare the reference. We will compute the scores with respect to a reference of 40% GC content, which matches the simulation."
   ]
  },
  {
   "cell_type": "code",
   "execution_count": 67,
   "metadata": {
    "collapsed": true
   },
   "outputs": [],
   "source": [
    "GC_array = np.array([0.3, 0.2, 0.2, 0.3]) #positions are A,C,G,T\n",
    "#[None,None,:,None] refers to the broadcast pattern; one_hot_data\n",
    "#has dimensions: sample x channel x rows x columns\n",
    "#the rows are acgt, the columns refer to the position\n",
    "#along the sequence, and the channel is a dummy axis for the first input layer.\n",
    "#Thus, we will broadcast over sample, channel and columns.\n",
    "reference_40GC = np.ones_like(one_hot_data)*GC_array[None,None,:,None]"
   ]
  },
  {
   "cell_type": "markdown",
   "metadata": {},
   "source": [
    "Let's inspect the reference. Here we look at the first 10 positions of the first two sequences."
   ]
  },
  {
   "cell_type": "code",
   "execution_count": 68,
   "metadata": {
    "collapsed": false
   },
   "outputs": [
    {
     "name": "stdout",
     "output_type": "stream",
     "text": [
      "[[[[ 0.3  0.3  0.3  0.3  0.3  0.3  0.3  0.3  0.3  0.3]\n",
      "   [ 0.2  0.2  0.2  0.2  0.2  0.2  0.2  0.2  0.2  0.2]\n",
      "   [ 0.2  0.2  0.2  0.2  0.2  0.2  0.2  0.2  0.2  0.2]\n",
      "   [ 0.3  0.3  0.3  0.3  0.3  0.3  0.3  0.3  0.3  0.3]]]\n",
      "\n",
      "\n",
      " [[[ 0.3  0.3  0.3  0.3  0.3  0.3  0.3  0.3  0.3  0.3]\n",
      "   [ 0.2  0.2  0.2  0.2  0.2  0.2  0.2  0.2  0.2  0.2]\n",
      "   [ 0.2  0.2  0.2  0.2  0.2  0.2  0.2  0.2  0.2  0.2]\n",
      "   [ 0.3  0.3  0.3  0.3  0.3  0.3  0.3  0.3  0.3  0.3]]]]\n"
     ]
    }
   ],
   "source": [
    "print(reference_40GC[0:2, :, :, 0:10])"
   ]
  },
  {
   "cell_type": "code",
   "execution_count": 80,
   "metadata": {
    "collapsed": false
   },
   "outputs": [],
   "source": [
    "task_to_deeplift_scores_unsummed = OrderedDict()\n",
    "for task in [0,1,2]:\n",
    "    task_to_deeplift_scores_unsummed[task] = np.array(deeplift_scoring_func(\n",
    "                                                task_idx=task,\n",
    "                                                input_data_list=[one_hot_data],\n",
    "                                                input_references_list=[reference_40GC],\n",
    "                                                batch_size=20,\n",
    "                                                progress_update=None))"
   ]
  },
  {
   "cell_type": "markdown",
   "metadata": {},
   "source": [
    "Let's inspect the resulting scores array for a particular task"
   ]
  },
  {
   "cell_type": "code",
   "execution_count": 81,
   "metadata": {
    "collapsed": false
   },
   "outputs": [
    {
     "name": "stdout",
     "output_type": "stream",
     "text": [
      "Shape:  (800, 1, 4, 200)\n",
      "[[ -3.97420896e-04   2.25206415e-04  -4.30589716e-05]\n",
      " [ -2.90405727e-03   4.73048072e-04   6.33215182e-04]\n",
      " [ -4.66775120e-04   5.73284749e-04   2.38485645e-05]\n",
      " [  6.02000393e-04  -4.66902566e-04   1.69704354e-03]]\n"
     ]
    }
   ],
   "source": [
    "print(\"Shape: \",str(task_to_deeplift_scores_unsummed[0].shape))\n",
    "print(task_to_deeplift_scores_unsummed[0][0][0][:,0:3])"
   ]
  },
  {
   "cell_type": "markdown",
   "metadata": {},
   "source": [
    "We see that the importance scores have the same dimensions as the input. Question: why are scores on all four positions of A,C,G,T nonzero, even though the input is one-hot-encoded (meaning at most one of those positions can be nonzero in the input)? (Hint: what is the reference?)\n",
    "\n",
    "Let's sum over acgt at each position (so that we get a sense of the total contribution of each position), and let's also get rid of the channel axis as it's a dummy axis:"
   ]
  },
  {
   "cell_type": "code",
   "execution_count": 84,
   "metadata": {
    "collapsed": true
   },
   "outputs": [],
   "source": [
    "task_to_deeplift_scores = OrderedDict()\n",
    "for task in task_to_deeplift_scores_unsummed:\n",
    "    task_to_deeplift_scores[task] = np.squeeze(np.sum(task_to_deeplift_scores_unsummed[task],axis=2),axis=1)"
   ]
  },
  {
   "cell_type": "markdown",
   "metadata": {},
   "source": [
    "## Visualize scores on a sequence"
   ]
  },
  {
   "cell_type": "markdown",
   "metadata": {},
   "source": [
    "We can now visualize the deeplift scores of an individual sequence. In the visualization, the blue boxes indicate the true locations of embedded GATA motifs, and the green boxes indicate true locations of embedded TAL1 motifs."
   ]
  },
  {
   "cell_type": "code",
   "execution_count": 85,
   "metadata": {
    "collapsed": false
   },
   "outputs": [
    {
     "name": "stdout",
     "output_type": "stream",
     "text": [
      "Visualizing task 0\n"
     ]
    },
    {
     "data": {
      "image/png": "[encoded data removed]",
      "text/plain": [
       "<matplotlib.figure.Figure at 0x7f22435a2950>"
      ]
     },
     "metadata": {},
     "output_type": "display_data"
    },
    {
     "name": "stdout",
     "output_type": "stream",
     "text": [
      "Visualizing task 1\n"
     ]
    },
    {
     "data": {
      "image/png": "[encoded data removed]",
      "text/plain": [
       "<matplotlib.figure.Figure at 0x7f2241dd7850>"
      ]
     },
     "metadata": {},
     "output_type": "display_data"
    },
    {
     "name": "stdout",
     "output_type": "stream",
     "text": [
      "Visualizing task 2\n"
     ]
    },
    {
     "data": {
      "image/png": "[encoded data removed]",
      "text/plain": [
       "<matplotlib.figure.Figure at 0x7f22428d49d0>"
      ]
     },
     "metadata": {},
     "output_type": "display_data"
    }
   ],
   "source": [
    "import tutorial_utils\n",
    "reload(tutorial_utils)\n",
    "from tutorial_utils import viz_sequence_highlight_motifs\n",
    "\n",
    "idx=0\n",
    "for task in task_to_deeplift_scores:\n",
    "    print(\"Visualizing task\",task)\n",
    "    viz_sequence_highlight_motifs(task_to_deeplift_scores[task][idx], one_hot_data[idx], raw_data.embeddings[idx])"
   ]
  },
  {
   "cell_type": "code",
   "execution_count": null,
   "metadata": {
    "collapsed": true
   },
   "outputs": [],
   "source": []
  }
 ],
 "metadata": {
  "kernelspec": {
   "display_name": "Python 2",
   "language": "python",
   "name": "python2"
  },
  "language_info": {
   "codemirror_mode": {
    "name": "ipython",
    "version": 2
   },
   "file_extension": ".py",
   "mimetype": "text/x-python",
   "name": "python",
   "nbconvert_exporter": "python",
   "pygments_lexer": "ipython2",
   "version": "2.7.11"
  }
 },
 "nbformat": 4,
 "nbformat_minor": 0
}
